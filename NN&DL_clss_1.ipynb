{
  "nbformat": 4,
  "nbformat_minor": 0,
  "metadata": {
    "colab": {
      "provenance": [],
      "authorship_tag": "ABX9TyO5pqmeVElHXPKvpQABoYAD",
      "include_colab_link": true
    },
    "kernelspec": {
      "name": "python3",
      "display_name": "Python 3"
    },
    "language_info": {
      "name": "python"
    }
  },
  "cells": [
    {
      "cell_type": "markdown",
      "metadata": {
        "id": "view-in-github",
        "colab_type": "text"
      },
      "source": [
        "<a href=\"https://colab.research.google.com/github/VennelaPulavarti/NNandDL/blob/main/NN%26DL_clss_1.ipynb\" target=\"_parent\"><img src=\"https://colab.research.google.com/assets/colab-badge.svg\" alt=\"Open In Colab\"/></a>"
      ]
    },
    {
      "cell_type": "code",
      "execution_count": 38,
      "metadata": {
        "colab": {
          "base_uri": "https://localhost:8080/"
        },
        "id": "J8X6sQaZesZ2",
        "outputId": "7cdc9ac5-6087-40c3-b9f7-6c1be840b46c"
      },
      "outputs": [
        {
          "output_type": "stream",
          "name": "stdout",
          "text": [
            "enter a word \n",
            "VENNELA\n",
            "ENNEV\n"
          ]
        }
      ],
      "source": [
        "# QUE 1A\n",
        "\n",
        "ipString = input(\"enter a word \\n\")\n",
        "opString = (ipString[:-2])[::-1]    # ([:-2] - to remove last 2 characters of string ) ([::-1] - to reverse a string )\n",
        "print (opString)"
      ]
    },
    {
      "cell_type": "code",
      "source": [
        "# QUE 1B\n",
        "\n",
        "num1 = int(input(\"enter 1st number \\n\"))\n",
        "num2 = int(input(\"enter 2nd number \\n\"))\n",
        "sum = num1 + num2\n",
        "diff = num1 - num2\n",
        "prod = num1 * num2\n",
        "pow = num1 ** num2\n",
        "print (\"sum : \", sum)\n",
        "print (\"difference : \", diff)\n",
        "print (\"product : \", prod)\n",
        "print (\"num1 power num2 : \", pow)"
      ],
      "metadata": {
        "colab": {
          "base_uri": "https://localhost:8080/"
        },
        "id": "11S__7oChbtH",
        "outputId": "a5c6643d-6664-4227-edcb-73d859e39465"
      },
      "execution_count": 37,
      "outputs": [
        {
          "output_type": "stream",
          "name": "stdout",
          "text": [
            "enter 1st number \n",
            "2\n",
            "enter 2nd number \n",
            "5\n",
            "sum :  7\n",
            "difference :  -3\n",
            "product :  10\n",
            "num1 power num2 :  32\n"
          ]
        }
      ]
    },
    {
      "cell_type": "code",
      "source": [
        "# QUE 2\n",
        "\n",
        "ipString = str(input(\"enter a sentence \\n\"))\n",
        "opString = ipString.replace(\"python\", \"pythons\")\n",
        "print (opString)"
      ],
      "metadata": {
        "colab": {
          "base_uri": "https://localhost:8080/"
        },
        "id": "gpiP487Ie0kE",
        "outputId": "79012e6e-de94-4a32-d28f-a80f69886aab"
      },
      "execution_count": 36,
      "outputs": [
        {
          "output_type": "stream",
          "name": "stdout",
          "text": [
            "enter a sentence \n",
            "I love playing with python\n",
            "I love playing with pythons\n"
          ]
        }
      ]
    },
    {
      "cell_type": "code",
      "source": [
        "# QUE 3\n",
        "\n",
        "classScore = int(input(\"enter class score \\n\"))\n",
        "\n",
        "if ((classScore >= 90) and (classScore < 100)) :\n",
        "  print(\"GRADE A\")\n",
        "elif ((classScore >= 80) and (classScore < 90)) :\n",
        "  print(\"GRADE B\")\n",
        "elif ((classScore >= 70) and (classScore < 80)) :\n",
        "  print(\"GRADE C\")\n",
        "elif ((classScore >= 60) and (classScore < 70)) :\n",
        "  print(\"GRADE D\")\n",
        "elif ((classScore >= 0) and (classScore < 60)) :\n",
        "  print(\"GRADE F\")\n",
        "else:\n",
        "  print(\"INVALID INPUT\")\n"
      ],
      "metadata": {
        "colab": {
          "base_uri": "https://localhost:8080/"
        },
        "id": "0TC6qxnejHc6",
        "outputId": "d56cb905-2a57-4521-e976-99b30e8e74b6"
      },
      "execution_count": 35,
      "outputs": [
        {
          "output_type": "stream",
          "name": "stdout",
          "text": [
            "enter class score \n",
            "97\n",
            "GRADE A\n"
          ]
        }
      ]
    }
  ]
}